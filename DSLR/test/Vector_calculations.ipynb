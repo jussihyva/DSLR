{
 "cells": [
  {
   "cell_type": "code",
   "execution_count": 163,
   "id": "52578c4c",
   "metadata": {},
   "outputs": [],
   "source": [
    "import numpy as np"
   ]
  },
  {
   "cell_type": "code",
   "execution_count": 164,
   "id": "1852f74f",
   "metadata": {},
   "outputs": [],
   "source": [
    "list_h1 = [0.,1,2,3,4]\n",
    "list_h2 = [[0,1,2,3,4]]\n",
    "list_v = [[0],\n",
    "          [1],\n",
    "          [2],\n",
    "          [3],\n",
    "          [4]]\n"
   ]
  },
  {
   "cell_type": "code",
   "execution_count": 125,
   "id": "9c4a3466",
   "metadata": {},
   "outputs": [
    {
     "name": "stdout",
     "output_type": "stream",
     "text": [
      "[0.0, 1, 2, 3, 4]\n",
      "[[0, 1, 2, 3, 4]]\n",
      "[[0], [1], [2], [3], [4]]\n"
     ]
    }
   ],
   "source": [
    "print(list_h1)\n",
    "print(list_h2)\n",
    "print(list_v)"
   ]
  },
  {
   "cell_type": "code",
   "execution_count": 158,
   "id": "7860b146",
   "metadata": {},
   "outputs": [],
   "source": [
    "vector_h1 = np.array(list_h1, ndmin=2)\n",
    "vector_h2 = np.array([list_h1,list_h1,list_h1,list_h1,list_h1])\n",
    "vector_v = np.array(list_v, dtype=int)\n",
    "\n"
   ]
  },
  {
   "cell_type": "code",
   "execution_count": 115,
   "id": "b9ac2ab1",
   "metadata": {},
   "outputs": [
    {
     "name": "stdout",
     "output_type": "stream",
     "text": [
      "[[1.e-08 1.e+00 2.e+00 3.e+00 4.e+05]]\n",
      "[[0 1 2 3 4]]\n",
      "[[0]\n",
      " [1]\n",
      " [2]\n",
      " [3]\n",
      " [4]]\n"
     ]
    }
   ],
   "source": [
    "print(vector_h1)\n",
    "print(vector_h2)\n",
    "print(vector_v)"
   ]
  },
  {
   "cell_type": "code",
   "execution_count": 116,
   "id": "b2aad9b9",
   "metadata": {},
   "outputs": [
    {
     "name": "stdout",
     "output_type": "stream",
     "text": [
      "[[1.e-08]\n",
      " [1.e+00]\n",
      " [2.e+00]\n",
      " [3.e+00]\n",
      " [4.e+05]]\n",
      "[[0]\n",
      " [1]\n",
      " [2]\n",
      " [3]\n",
      " [4]]\n",
      "[[0 1 2 3 4]]\n"
     ]
    }
   ],
   "source": [
    "print(vector_h1.T)\n",
    "print(vector_h2.T)\n",
    "print(vector_v.T)"
   ]
  },
  {
   "cell_type": "code",
   "execution_count": 117,
   "id": "93259ab9",
   "metadata": {},
   "outputs": [
    {
     "data": {
      "text/plain": [
       "array([[1.6e+11]])"
      ]
     },
     "execution_count": 117,
     "metadata": {},
     "output_type": "execute_result"
    }
   ],
   "source": [
    "vector_h1.dot(vector_h1.T)"
   ]
  },
  {
   "cell_type": "code",
   "execution_count": 118,
   "id": "196b15f5",
   "metadata": {},
   "outputs": [
    {
     "data": {
      "text/plain": [
       "array([[-18.42068074,   0.        ,   0.69314718,   1.09861229,\n",
       "         12.89921983]])"
      ]
     },
     "execution_count": 118,
     "metadata": {},
     "output_type": "execute_result"
    }
   ],
   "source": [
    "np.log(vector_h1)"
   ]
  },
  {
   "cell_type": "code",
   "execution_count": 122,
   "id": "3e379d0a",
   "metadata": {},
   "outputs": [
    {
     "data": {
      "text/plain": [
       "array([[0.99999999, 0.36787944, 0.13533528, 0.04978707, 0.        ]])"
      ]
     },
     "execution_count": 122,
     "metadata": {},
     "output_type": "execute_result"
    }
   ],
   "source": [
    "np.exp(-vector_h1)"
   ]
  },
  {
   "cell_type": "code",
   "execution_count": 120,
   "id": "19584aca",
   "metadata": {},
   "outputs": [
    {
     "data": {
      "text/plain": [
       "array([[4.00000001e+00, 5.00000000e+00, 6.00000000e+00, 7.00000000e+00,\n",
       "        4.00004000e+05]])"
      ]
     },
     "execution_count": 120,
     "metadata": {},
     "output_type": "execute_result"
    }
   ],
   "source": [
    "np.add(vector_h1,4)"
   ]
  },
  {
   "cell_type": "code",
   "execution_count": 127,
   "id": "58594e1c",
   "metadata": {},
   "outputs": [
    {
     "data": {
      "text/plain": [
       "array([[0., 1., 2., 3., 4.]])"
      ]
     },
     "execution_count": 127,
     "metadata": {},
     "output_type": "execute_result"
    }
   ],
   "source": [
    "vector_h1"
   ]
  },
  {
   "cell_type": "code",
   "execution_count": 128,
   "id": "53fc21e6",
   "metadata": {},
   "outputs": [
    {
     "data": {
      "text/plain": [
       "(1, 5)"
      ]
     },
     "execution_count": 128,
     "metadata": {},
     "output_type": "execute_result"
    }
   ],
   "source": [
    "vector_h1.shape"
   ]
  },
  {
   "cell_type": "code",
   "execution_count": 129,
   "id": "779c543b",
   "metadata": {},
   "outputs": [
    {
     "data": {
      "text/plain": [
       "1"
      ]
     },
     "execution_count": 129,
     "metadata": {},
     "output_type": "execute_result"
    }
   ],
   "source": [
    "vector_h1.shape[0]"
   ]
  },
  {
   "cell_type": "code",
   "execution_count": 130,
   "id": "6d679c23",
   "metadata": {},
   "outputs": [
    {
     "data": {
      "text/plain": [
       "5"
      ]
     },
     "execution_count": 130,
     "metadata": {},
     "output_type": "execute_result"
    }
   ],
   "source": [
    "vector_h1.shape[1]"
   ]
  },
  {
   "cell_type": "code",
   "execution_count": 131,
   "id": "790c4dbd",
   "metadata": {},
   "outputs": [],
   "source": [
    "input = np.array([[1,2,3], [3,4,5]], ndmin=2)"
   ]
  },
  {
   "cell_type": "code",
   "execution_count": 132,
   "id": "f8ac09d2",
   "metadata": {},
   "outputs": [
    {
     "data": {
      "text/plain": [
       "(2, 3)"
      ]
     },
     "execution_count": 132,
     "metadata": {},
     "output_type": "execute_result"
    }
   ],
   "source": [
    "input.shape"
   ]
  },
  {
   "cell_type": "code",
   "execution_count": 134,
   "id": "0bff64af",
   "metadata": {},
   "outputs": [
    {
     "data": {
      "text/plain": [
       "array([[0.36787944, 0.13533528, 0.04978707],\n",
       "       [0.04978707, 0.01831564, 0.00673795]])"
      ]
     },
     "execution_count": 134,
     "metadata": {},
     "output_type": "execute_result"
    }
   ],
   "source": [
    "np.exp(-input)"
   ]
  },
  {
   "cell_type": "code",
   "execution_count": 155,
   "id": "771dba7e",
   "metadata": {},
   "outputs": [
    {
     "data": {
      "text/plain": [
       "array([[0],\n",
       "       [1],\n",
       "       [2],\n",
       "       [3],\n",
       "       [4]])"
      ]
     },
     "execution_count": 155,
     "metadata": {},
     "output_type": "execute_result"
    }
   ],
   "source": [
    "vector_v"
   ]
  },
  {
   "cell_type": "code",
   "execution_count": 159,
   "id": "9b03160e",
   "metadata": {},
   "outputs": [
    {
     "data": {
      "text/plain": [
       "array([[0., 1., 2., 3., 4.],\n",
       "       [0., 1., 2., 3., 4.],\n",
       "       [0., 1., 2., 3., 4.],\n",
       "       [0., 1., 2., 3., 4.],\n",
       "       [0., 1., 2., 3., 4.]])"
      ]
     },
     "execution_count": 159,
     "metadata": {},
     "output_type": "execute_result"
    }
   ],
   "source": [
    "vector_h2"
   ]
  },
  {
   "cell_type": "code",
   "execution_count": 162,
   "id": "89b7a921",
   "metadata": {},
   "outputs": [
    {
     "data": {
      "text/plain": [
       "array([[ 0.,  0.,  0.,  0.,  0.],\n",
       "       [ 0.,  1.,  2.,  3.,  4.],\n",
       "       [ 0.,  2.,  4.,  6.,  8.],\n",
       "       [ 0.,  3.,  6.,  9., 12.],\n",
       "       [ 0.,  4.,  8., 12., 16.]])"
      ]
     },
     "execution_count": 162,
     "metadata": {},
     "output_type": "execute_result"
    }
   ],
   "source": [
    "vector_h1.T * vector_h2"
   ]
  },
  {
   "cell_type": "code",
   "execution_count": 165,
   "id": "03790b28",
   "metadata": {},
   "outputs": [
    {
     "name": "stderr",
     "output_type": "stream",
     "text": [
      "/tmp/ipykernel_459267/1938981443.py:1: RuntimeWarning: invalid value encountered in true_divide\n",
      "  np.divide(vector_h2, vector_h1)\n"
     ]
    },
    {
     "data": {
      "text/plain": [
       "array([[nan,  1.,  1.,  1.,  1.],\n",
       "       [nan,  1.,  1.,  1.,  1.],\n",
       "       [nan,  1.,  1.,  1.,  1.],\n",
       "       [nan,  1.,  1.,  1.,  1.],\n",
       "       [nan,  1.,  1.,  1.,  1.]])"
      ]
     },
     "execution_count": 165,
     "metadata": {},
     "output_type": "execute_result"
    }
   ],
   "source": [
    "np.divide(vector_h2, vector_h1)"
   ]
  },
  {
   "cell_type": "code",
   "execution_count": 177,
   "id": "70565f5e",
   "metadata": {},
   "outputs": [],
   "source": [
    "matrix = np.array([list_h1,list_h1,list_h1,list_h1,list_h1])\n",
    "list = [1,2,3,4,5]\n",
    "vector = np.array(list)"
   ]
  },
  {
   "cell_type": "code",
   "execution_count": 178,
   "id": "8531a253",
   "metadata": {},
   "outputs": [
    {
     "name": "stdout",
     "output_type": "stream",
     "text": [
      "[[0. 1. 2. 3. 4.]\n",
      " [0. 1. 2. 3. 4.]\n",
      " [0. 1. 2. 3. 4.]\n",
      " [0. 1. 2. 3. 4.]\n",
      " [0. 1. 2. 3. 4.]]\n",
      "[1 2 3 4 5]\n"
     ]
    }
   ],
   "source": [
    "print(matrix)\n",
    "print(vector)"
   ]
  },
  {
   "cell_type": "code",
   "execution_count": 179,
   "id": "4f1edfe2",
   "metadata": {},
   "outputs": [
    {
     "data": {
      "text/plain": [
       "array([[0.        , 0.5       , 0.66666667, 0.75      , 0.8       ],\n",
       "       [0.        , 0.5       , 0.66666667, 0.75      , 0.8       ],\n",
       "       [0.        , 0.5       , 0.66666667, 0.75      , 0.8       ],\n",
       "       [0.        , 0.5       , 0.66666667, 0.75      , 0.8       ],\n",
       "       [0.        , 0.5       , 0.66666667, 0.75      , 0.8       ]])"
      ]
     },
     "execution_count": 179,
     "metadata": {},
     "output_type": "execute_result"
    }
   ],
   "source": [
    "np.divide(matrix, vector)"
   ]
  },
  {
   "cell_type": "code",
   "execution_count": 180,
   "id": "a321bb56",
   "metadata": {},
   "outputs": [
    {
     "data": {
      "text/plain": [
       "array([5.        , 2.5       , 1.66666667, 1.25      , 1.        ])"
      ]
     },
     "execution_count": 180,
     "metadata": {},
     "output_type": "execute_result"
    }
   ],
   "source": [
    "np.divide(5, vector)"
   ]
  },
  {
   "cell_type": "code",
   "execution_count": 181,
   "id": "dee335e5",
   "metadata": {},
   "outputs": [
    {
     "data": {
      "text/plain": [
       "array([[5., 6., 7., 8., 9.],\n",
       "       [5., 6., 7., 8., 9.],\n",
       "       [5., 6., 7., 8., 9.],\n",
       "       [5., 6., 7., 8., 9.],\n",
       "       [5., 6., 7., 8., 9.]])"
      ]
     },
     "execution_count": 181,
     "metadata": {},
     "output_type": "execute_result"
    }
   ],
   "source": [
    "np.add(matrix, 5)"
   ]
  },
  {
   "cell_type": "code",
   "execution_count": 182,
   "id": "1159e4a8",
   "metadata": {},
   "outputs": [
    {
     "data": {
      "text/plain": [
       "array([[0., 2., 4., 6., 8.],\n",
       "       [0., 2., 4., 6., 8.],\n",
       "       [0., 2., 4., 6., 8.],\n",
       "       [0., 2., 4., 6., 8.],\n",
       "       [0., 2., 4., 6., 8.]])"
      ]
     },
     "execution_count": 182,
     "metadata": {},
     "output_type": "execute_result"
    }
   ],
   "source": [
    "np.add(matrix, matrix)"
   ]
  },
  {
   "cell_type": "code",
   "execution_count": 183,
   "id": "2197bde6",
   "metadata": {},
   "outputs": [
    {
     "data": {
      "text/plain": [
       "array([[1., 3., 5., 7., 9.],\n",
       "       [1., 3., 5., 7., 9.],\n",
       "       [1., 3., 5., 7., 9.],\n",
       "       [1., 3., 5., 7., 9.],\n",
       "       [1., 3., 5., 7., 9.]])"
      ]
     },
     "execution_count": 183,
     "metadata": {},
     "output_type": "execute_result"
    }
   ],
   "source": [
    "np.add(matrix, vector)"
   ]
  },
  {
   "cell_type": "code",
   "execution_count": 184,
   "id": "5a548867",
   "metadata": {},
   "outputs": [
    {
     "data": {
      "text/plain": [
       "array([ 6,  7,  8,  9, 10])"
      ]
     },
     "execution_count": 184,
     "metadata": {},
     "output_type": "execute_result"
    }
   ],
   "source": [
    "np.add(vector, 5)"
   ]
  },
  {
   "cell_type": "code",
   "execution_count": 185,
   "id": "a0414145",
   "metadata": {},
   "outputs": [
    {
     "data": {
      "text/plain": [
       "array([ 2,  4,  6,  8, 10])"
      ]
     },
     "execution_count": 185,
     "metadata": {},
     "output_type": "execute_result"
    }
   ],
   "source": [
    "np.add(vector, vector)"
   ]
  },
  {
   "cell_type": "code",
   "execution_count": null,
   "id": "e9b075aa",
   "metadata": {},
   "outputs": [],
   "source": []
  }
 ],
 "metadata": {
  "kernelspec": {
   "display_name": "Python 3 (ipykernel)",
   "language": "python",
   "name": "python3"
  },
  "language_info": {
   "codemirror_mode": {
    "name": "ipython",
    "version": 3
   },
   "file_extension": ".py",
   "mimetype": "text/x-python",
   "name": "python",
   "nbconvert_exporter": "python",
   "pygments_lexer": "ipython3",
   "version": "3.8.10"
  }
 },
 "nbformat": 4,
 "nbformat_minor": 5
}

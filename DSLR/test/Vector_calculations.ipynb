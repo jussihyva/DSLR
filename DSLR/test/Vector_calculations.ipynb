{
 "cells": [
  {
   "cell_type": "code",
   "execution_count": 70,
   "id": "bad18052",
   "metadata": {},
   "outputs": [],
   "source": [
    "import numpy as np"
   ]
  },
  {
   "cell_type": "code",
   "execution_count": 136,
   "id": "ea5f620b",
   "metadata": {},
   "outputs": [],
   "source": [
    "list_h1 = [0.,1,2,3,4]\n",
    "list_h2 = [[0,1,2,3,4]]\n",
    "list_v = [[0],\n",
    "          [1],\n",
    "          [2],\n",
    "          [3],\n",
    "          [4]]\n"
   ]
  },
  {
   "cell_type": "code",
   "execution_count": 125,
   "id": "f308e0cf",
   "metadata": {},
   "outputs": [
    {
     "name": "stdout",
     "output_type": "stream",
     "text": [
      "[0.0, 1, 2, 3, 4]\n",
      "[[0, 1, 2, 3, 4]]\n",
      "[[0], [1], [2], [3], [4]]\n"
     ]
    }
   ],
   "source": [
    "print(list_h1)\n",
    "print(list_h2)\n",
    "print(list_v)"
   ]
  },
  {
   "cell_type": "code",
   "execution_count": 158,
   "id": "7f40ef2f",
   "metadata": {},
   "outputs": [],
   "source": [
    "vector_h1 = np.array(list_h1, ndmin=2)\n",
    "vector_h2 = np.array([list_h1,list_h1,list_h1,list_h1,list_h1])\n",
    "vector_v = np.array(list_v, dtype=int)\n",
    "\n"
   ]
  },
  {
   "cell_type": "code",
   "execution_count": 115,
   "id": "a5d24cf6",
   "metadata": {},
   "outputs": [
    {
     "name": "stdout",
     "output_type": "stream",
     "text": [
      "[[1.e-08 1.e+00 2.e+00 3.e+00 4.e+05]]\n",
      "[[0 1 2 3 4]]\n",
      "[[0]\n",
      " [1]\n",
      " [2]\n",
      " [3]\n",
      " [4]]\n"
     ]
    }
   ],
   "source": [
    "print(vector_h1)\n",
    "print(vector_h2)\n",
    "print(vector_v)"
   ]
  },
  {
   "cell_type": "code",
   "execution_count": 116,
   "id": "5c1adb33",
   "metadata": {},
   "outputs": [
    {
     "name": "stdout",
     "output_type": "stream",
     "text": [
      "[[1.e-08]\n",
      " [1.e+00]\n",
      " [2.e+00]\n",
      " [3.e+00]\n",
      " [4.e+05]]\n",
      "[[0]\n",
      " [1]\n",
      " [2]\n",
      " [3]\n",
      " [4]]\n",
      "[[0 1 2 3 4]]\n"
     ]
    }
   ],
   "source": [
    "print(vector_h1.T)\n",
    "print(vector_h2.T)\n",
    "print(vector_v.T)"
   ]
  },
  {
   "cell_type": "code",
   "execution_count": 117,
   "id": "8eb18f01",
   "metadata": {},
   "outputs": [
    {
     "data": {
      "text/plain": [
       "array([[1.6e+11]])"
      ]
     },
     "execution_count": 117,
     "metadata": {},
     "output_type": "execute_result"
    }
   ],
   "source": [
    "vector_h1.dot(vector_h1.T)"
   ]
  },
  {
   "cell_type": "code",
   "execution_count": 118,
   "id": "e9860055",
   "metadata": {},
   "outputs": [
    {
     "data": {
      "text/plain": [
       "array([[-18.42068074,   0.        ,   0.69314718,   1.09861229,\n",
       "         12.89921983]])"
      ]
     },
     "execution_count": 118,
     "metadata": {},
     "output_type": "execute_result"
    }
   ],
   "source": [
    "np.log(vector_h1)"
   ]
  },
  {
   "cell_type": "code",
   "execution_count": 122,
   "id": "858ab0cf",
   "metadata": {},
   "outputs": [
    {
     "data": {
      "text/plain": [
       "array([[0.99999999, 0.36787944, 0.13533528, 0.04978707, 0.        ]])"
      ]
     },
     "execution_count": 122,
     "metadata": {},
     "output_type": "execute_result"
    }
   ],
   "source": [
    "np.exp(-vector_h1)"
   ]
  },
  {
   "cell_type": "code",
   "execution_count": 120,
   "id": "be8be06c",
   "metadata": {},
   "outputs": [
    {
     "data": {
      "text/plain": [
       "array([[4.00000001e+00, 5.00000000e+00, 6.00000000e+00, 7.00000000e+00,\n",
       "        4.00004000e+05]])"
      ]
     },
     "execution_count": 120,
     "metadata": {},
     "output_type": "execute_result"
    }
   ],
   "source": [
    "np.add(vector_h1,4)"
   ]
  },
  {
   "cell_type": "code",
   "execution_count": 127,
   "id": "46756c1f",
   "metadata": {},
   "outputs": [
    {
     "data": {
      "text/plain": [
       "array([[0., 1., 2., 3., 4.]])"
      ]
     },
     "execution_count": 127,
     "metadata": {},
     "output_type": "execute_result"
    }
   ],
   "source": [
    "vector_h1"
   ]
  },
  {
   "cell_type": "code",
   "execution_count": 128,
   "id": "87cdb1de",
   "metadata": {},
   "outputs": [
    {
     "data": {
      "text/plain": [
       "(1, 5)"
      ]
     },
     "execution_count": 128,
     "metadata": {},
     "output_type": "execute_result"
    }
   ],
   "source": [
    "vector_h1.shape"
   ]
  },
  {
   "cell_type": "code",
   "execution_count": 129,
   "id": "67d0f4d8",
   "metadata": {},
   "outputs": [
    {
     "data": {
      "text/plain": [
       "1"
      ]
     },
     "execution_count": 129,
     "metadata": {},
     "output_type": "execute_result"
    }
   ],
   "source": [
    "vector_h1.shape[0]"
   ]
  },
  {
   "cell_type": "code",
   "execution_count": 130,
   "id": "db2dfe0e",
   "metadata": {},
   "outputs": [
    {
     "data": {
      "text/plain": [
       "5"
      ]
     },
     "execution_count": 130,
     "metadata": {},
     "output_type": "execute_result"
    }
   ],
   "source": [
    "vector_h1.shape[1]"
   ]
  },
  {
   "cell_type": "code",
   "execution_count": 131,
   "id": "968d1385",
   "metadata": {},
   "outputs": [],
   "source": [
    "input = np.array([[1,2,3], [3,4,5]], ndmin=2)"
   ]
  },
  {
   "cell_type": "code",
   "execution_count": 132,
   "id": "eb1e1830",
   "metadata": {},
   "outputs": [
    {
     "data": {
      "text/plain": [
       "(2, 3)"
      ]
     },
     "execution_count": 132,
     "metadata": {},
     "output_type": "execute_result"
    }
   ],
   "source": [
    "input.shape"
   ]
  },
  {
   "cell_type": "code",
   "execution_count": 134,
   "id": "19749855",
   "metadata": {},
   "outputs": [
    {
     "data": {
      "text/plain": [
       "array([[0.36787944, 0.13533528, 0.04978707],\n",
       "       [0.04978707, 0.01831564, 0.00673795]])"
      ]
     },
     "execution_count": 134,
     "metadata": {},
     "output_type": "execute_result"
    }
   ],
   "source": [
    "np.exp(-input)"
   ]
  },
  {
   "cell_type": "code",
   "execution_count": 155,
   "id": "167f7b53",
   "metadata": {},
   "outputs": [
    {
     "data": {
      "text/plain": [
       "array([[0],\n",
       "       [1],\n",
       "       [2],\n",
       "       [3],\n",
       "       [4]])"
      ]
     },
     "execution_count": 155,
     "metadata": {},
     "output_type": "execute_result"
    }
   ],
   "source": [
    "vector_v"
   ]
  },
  {
   "cell_type": "code",
   "execution_count": 159,
   "id": "20c0096c",
   "metadata": {},
   "outputs": [
    {
     "data": {
      "text/plain": [
       "array([[0., 1., 2., 3., 4.],\n",
       "       [0., 1., 2., 3., 4.],\n",
       "       [0., 1., 2., 3., 4.],\n",
       "       [0., 1., 2., 3., 4.],\n",
       "       [0., 1., 2., 3., 4.]])"
      ]
     },
     "execution_count": 159,
     "metadata": {},
     "output_type": "execute_result"
    }
   ],
   "source": [
    "vector_h2"
   ]
  },
  {
   "cell_type": "code",
   "execution_count": 162,
   "id": "1625ba2e",
   "metadata": {},
   "outputs": [
    {
     "data": {
      "text/plain": [
       "array([[ 0.,  0.,  0.,  0.,  0.],\n",
       "       [ 0.,  1.,  2.,  3.,  4.],\n",
       "       [ 0.,  2.,  4.,  6.,  8.],\n",
       "       [ 0.,  3.,  6.,  9., 12.],\n",
       "       [ 0.,  4.,  8., 12., 16.]])"
      ]
     },
     "execution_count": 162,
     "metadata": {},
     "output_type": "execute_result"
    }
   ],
   "source": [
    "vector_h1.T * vector_h2"
   ]
  },
  {
   "cell_type": "code",
   "execution_count": null,
   "id": "e5917c20",
   "metadata": {},
   "outputs": [],
   "source": []
  }
 ],
 "metadata": {
  "kernelspec": {
   "display_name": "Python 3 (ipykernel)",
   "language": "python",
   "name": "python3"
  },
  "language_info": {
   "codemirror_mode": {
    "name": "ipython",
    "version": 3
   },
   "file_extension": ".py",
   "mimetype": "text/x-python",
   "name": "python",
   "nbconvert_exporter": "python",
   "pygments_lexer": "ipython3",
   "version": "3.8.10"
  }
 },
 "nbformat": 4,
 "nbformat_minor": 5
}

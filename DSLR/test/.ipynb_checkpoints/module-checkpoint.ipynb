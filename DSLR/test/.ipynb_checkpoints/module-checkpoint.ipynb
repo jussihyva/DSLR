{
 "cells": [
  {
   "cell_type": "code",
   "execution_count": 14,
   "id": "ce44d5cb",
   "metadata": {},
   "outputs": [
    {
     "name": "stdout",
     "output_type": "stream",
     "text": [
      "WARNING:tensorflow:From /Users/jkauppi/.brew/lib/python3.9/site-packages/tensorflow/python/compat/v2_compat.py:101: disable_resource_variables (from tensorflow.python.ops.variable_scope) is deprecated and will be removed in a future version.\n",
      "Instructions for updating:\n",
      "non-resource variables are not supported in the long term\n"
     ]
    }
   ],
   "source": [
    "import tensorflow.compat.v1 as tf\n",
    "tf.disable_v2_behavior()\n"
   ]
  },
  {
   "cell_type": "code",
   "execution_count": 16,
   "id": "3dad7953",
   "metadata": {},
   "outputs": [],
   "source": [
    "# Batch of input and target output (1x1 matrices)\n",
    "x = tf.placeholder(tf.float32, shape=[None, 1, 1], name='input')\n",
    "y = tf.placeholder(tf.float32, shape=[None, 1, 1], name='target')"
   ]
  },
  {
   "cell_type": "code",
   "execution_count": 17,
   "id": "6bead903",
   "metadata": {},
   "outputs": [
    {
     "data": {
      "text/plain": [
       "<tf.Tensor 'input:0' shape=(?, 1, 1) dtype=float32>"
      ]
     },
     "execution_count": 17,
     "metadata": {},
     "output_type": "execute_result"
    }
   ],
   "source": [
    "x"
   ]
  },
  {
   "cell_type": "code",
   "execution_count": 18,
   "id": "f436aaf6",
   "metadata": {},
   "outputs": [
    {
     "name": "stderr",
     "output_type": "stream",
     "text": [
      "/Users/jkauppi/.brew/lib/python3.9/site-packages/keras/legacy_tf_layers/core.py:236: UserWarning: `tf.layers.dense` is deprecated and will be removed in a future version. Please use `tf.keras.layers.Dense` instead.\n",
      "  warnings.warn('`tf.layers.dense` is deprecated and '\n",
      "/Users/jkauppi/.brew/lib/python3.9/site-packages/keras/engine/base_layer_v1.py:1676: UserWarning: `layer.apply` is deprecated and will be removed in a future version. Please use `layer.__call__` method instead.\n",
      "  warnings.warn('`layer.apply` is deprecated and '\n"
     ]
    }
   ],
   "source": [
    "# Trivial linear model\n",
    "y_ = tf.identity(tf.layers.dense(x, 1), name='output')"
   ]
  },
  {
   "cell_type": "code",
   "execution_count": 19,
   "id": "f19b4156",
   "metadata": {},
   "outputs": [
    {
     "data": {
      "text/plain": [
       "<tf.Tensor 'target_1:0' shape=(?, 1, 1) dtype=float32>"
      ]
     },
     "execution_count": 19,
     "metadata": {},
     "output_type": "execute_result"
    }
   ],
   "source": [
    "y"
   ]
  },
  {
   "cell_type": "code",
   "execution_count": 20,
   "id": "4d3cbe26",
   "metadata": {},
   "outputs": [],
   "source": [
    "# Optimize loss\n",
    "loss = tf.reduce_mean(tf.square(y_ - y), name='loss')\n",
    "optimizer = tf.train.GradientDescentOptimizer(learning_rate=0.01)\n",
    "train_op = optimizer.minimize(loss, name='train')\n",
    "\n",
    "init = tf.global_variables_initializer()"
   ]
  },
  {
   "cell_type": "code",
   "execution_count": 21,
   "id": "3ec6b7d2",
   "metadata": {},
   "outputs": [
    {
     "data": {
      "text/plain": [
       "<tf.Tensor 'loss:0' shape=() dtype=float32>"
      ]
     },
     "execution_count": 21,
     "metadata": {},
     "output_type": "execute_result"
    }
   ],
   "source": [
    "loss"
   ]
  },
  {
   "cell_type": "code",
   "execution_count": 22,
   "id": "6b607efe",
   "metadata": {},
   "outputs": [
    {
     "data": {
      "text/plain": [
       "<tf.Operation 'init' type=NoOp>"
      ]
     },
     "execution_count": 22,
     "metadata": {},
     "output_type": "execute_result"
    }
   ],
   "source": [
    "init"
   ]
  },
  {
   "cell_type": "code",
   "execution_count": 23,
   "id": "2e32f853",
   "metadata": {},
   "outputs": [],
   "source": [
    "# tf.train.Saver.__init__ adds operations to the graph to save\n",
    "# and restore variables.\n",
    "saver_def = tf.train.Saver().as_saver_def()"
   ]
  },
  {
   "cell_type": "code",
   "execution_count": 24,
   "id": "d4301651",
   "metadata": {},
   "outputs": [
    {
     "name": "stdout",
     "output_type": "stream",
     "text": [
      "Run this operation to initialize variables     :  init\n",
      "Run this operation for a train step            :  train\n",
      "Feed this tensor to set the checkpoint filename:  save/Const:0\n",
      "Run this operation to save a checkpoint        :  save/control_dependency:0\n",
      "Run this operation to restore a checkpoint     :  save/restore_all\n"
     ]
    }
   ],
   "source": [
    "print('Run this operation to initialize variables     : ', init.name)\n",
    "print('Run this operation for a train step            : ', train_op.name)\n",
    "print('Feed this tensor to set the checkpoint filename: ', saver_def.filename_tensor_name)\n",
    "print('Run this operation to save a checkpoint        : ', saver_def.save_tensor_name)\n",
    "print('Run this operation to restore a checkpoint     : ', saver_def.restore_op_name)"
   ]
  },
  {
   "cell_type": "code",
   "execution_count": 26,
   "id": "05922221",
   "metadata": {},
   "outputs": [],
   "source": [
    "# Write the graph out to a file.\n",
    "with open('graph.pb', 'wb') as f:\n",
    "  f.write(tf.get_default_graph().as_graph_def().SerializeToString())\n"
   ]
  },
  {
   "cell_type": "code",
   "execution_count": 27,
   "id": "23c6308d",
   "metadata": {},
   "outputs": [
    {
     "data": {
      "text/plain": [
       "<tensorflow.python.framework.ops.Graph at 0x17f1a6550>"
      ]
     },
     "execution_count": 27,
     "metadata": {},
     "output_type": "execute_result"
    }
   ],
   "source": [
    "tf.get_default_graph()"
   ]
  },
  {
   "cell_type": "code",
   "execution_count": 28,
   "id": "7ee5ff27",
   "metadata": {},
   "outputs": [
    {
     "data": {
      "text/plain": [
       "b'\\nD\\n\\x06target\\x12\\x0bPlaceholder*\\x0b\\n\\x05dtype\\x12\\x020\\x01* \\n\\x05shape\\x12\\x17:\\x15\\x12\\x0b\\x08\\xff\\xff\\xff\\xff\\xff\\xff\\xff\\xff\\xff\\x01\\x12\\x02\\x08\\x01\\x12\\x02\\x08\\x01\\nC\\n\\x05input\\x12\\x0bPlaceholder* \\n\\x05shape\\x12\\x17:\\x15\\x12\\x0b\\x08\\xff\\xff\\xff\\xff\\xff\\xff\\xff\\xff\\xff\\x01\\x12\\x02\\x08\\x01\\x12\\x02\\x08\\x01*\\x0b\\n\\x05dtype\\x12\\x020\\x01\\nF\\n\\x08target_1\\x12\\x0bPlaceholder* \\n\\x05shape\\x12\\x17:\\x15\\x12\\x0b\\x08\\xff\\xff\\xff\\xff\\xff\\xff\\xff\\xff\\xff\\x01\\x12\\x02\\x08\\x01\\x12\\x02\\x08\\x01*\\x0b\\n\\x05dtype\\x12\\x020\\x01\\n\\x83\\x01\\n-dense/kernel/Initializer/random_uniform/shape\\x12\\x05Const*\\x1d\\n\\x05value\\x12\\x14B\\x12\\x08\\x03\\x12\\x04\\x12\\x02\\x08\\x02\"\\x08\\x01\\x00\\x00\\x00\\x01\\x00\\x00\\x00*\\x1f\\n\\x06_class\\x12\\x15\\n\\x13\\x12\\x11loc:@dense/kernel*\\x0b\\n\\x05dtype\\x12\\x020\\x03\\ny\\n+dense/kernel/Initializer/random_uniform/min\\x12\\x05Const*\\x15\\n\\x05value\\x12\\x0cB\\n\\x08\\x01\\x12\\x00*\\x04\\xd7\\xb3\\xdd\\xbf*\\x1f\\n\\x06_class\\x12\\x15\\n\\x13\\x12\\x11loc:@dense/kernel*\\x0b\\n\\x05dtype\\x12\\x020\\x01\\ny\\n+dense/kernel/Initializer/random_uniform/max\\x12\\x05Const*\\x15\\n\\x05value\\x12\\x0cB\\n\\x08\\x01\\x12\\x00*\\x04\\xd7\\xb3\\xdd?*\\x1f\\n\\x06_class\\x12\\x15\\n\\x13\\x12\\x11loc:@dense/kernel*\\x0b\\n\\x05dtype\\x12\\x020\\x01\\n\\xc5\\x01\\n5dense/kernel/Initializer/random_uniform/RandomUniform\\x12\\rRandomUniform\\x1a-dense/kernel/Initializer/random_uniform/shape*\\x07\\n\\x01T\\x12\\x020\\x03*\\x1f\\n\\x06_class\\x12\\x15\\n\\x13\\x12\\x11loc:@dense/kernel*\\x0b\\n\\x05dtype\\x12\\x020\\x01*\\x0b\\n\\x05seed2\\x12\\x02\\x18\\x00*\\n\\n\\x04seed\\x12\\x02\\x18\\x00\\n\\xb6\\x01\\n+dense/kernel/Initializer/random_uniform/sub\\x12\\x03Sub\\x1a+dense/kernel/Initializer/random_uniform/max\\x1a+dense/kernel/Initializer/random_uniform/min*\\x07\\n\\x01T\\x12\\x020\\x01*\\x1f\\n\\x06_class\\x12\\x15\\n\\x13\\x12\\x11loc:@dense/kernel\\n\\xc0\\x01\\n+dense/kernel/Initializer/random_uniform/mul\\x12\\x03Mul\\x1a5dense/kernel/Initializer/random_uniform/RandomUniform\\x1a+dense/kernel/Initializer/random_uniform/sub*\\x07\\n\\x01T\\x12\\x020\\x01*\\x1f\\n\\x06_class\\x12\\x15\\n\\x13\\x12\\x11loc:@dense/kernel\\n\\xb4\\x01\\n\\'dense/kernel/Initializer/random_uniform\\x12\\x05AddV2\\x1a+dense/kernel/Initializer/random_uniform/mul\\x1a+dense/kernel/Initializer/random_uniform/min*\\x07\\n\\x01T\\x12\\x020\\x01*\\x1f\\n\\x06_class\\x12\\x15\\n\\x13\\x12\\x11loc:@dense/kernel\\n\\x81\\x01\\n\\x0cdense/kernel\\x12\\nVariableV2*\\x1f\\n\\x06_class\\x12\\x15\\n\\x13\\x12\\x11loc:@dense/kernel*\\x0b\\n\\x05dtype\\x12\\x020\\x01*\\x0f\\n\\tcontainer\\x12\\x02\\x12\\x00*\\x13\\n\\x05shape\\x12\\n:\\x08\\x12\\x02\\x08\\x01\\x12\\x02\\x08\\x01*\\x11\\n\\x0bshared_name\\x12\\x02\\x12\\x00\\n\\xa7\\x01\\n\\x13dense/kernel/Assign\\x12\\x06Assign\\x1a\\x0cdense/kernel\\x1a\\'dense/kernel/Initializer/random_uniform*\\x11\\n\\x0buse_locking\\x12\\x02(\\x01*\\x07\\n\\x01T\\x12\\x020\\x01*\\x1f\\n\\x06_class\\x12\\x15\\n\\x13\\x12\\x11loc:@dense/kernel*\\x14\\n\\x0evalidate_shape\\x12\\x02(\\x01\\nU\\n\\x11dense/kernel/read\\x12\\x08Identity\\x1a\\x0cdense/kernel*\\x07\\n\\x01T\\x12\\x020\\x01*\\x1f\\n\\x06_class\\x12\\x15\\n\\x13\\x12\\x11loc:@dense/kernel\\nl\\n\\x1cdense/bias/Initializer/zeros\\x12\\x05Const*\\x19\\n\\x05value\\x12\\x10B\\x0e\\x08\\x01\\x12\\x04\\x12\\x02\\x08\\x01*\\x04\\x00\\x00\\x00\\x00*\\x1d\\n\\x06_class\\x12\\x13\\n\\x11\\x12\\x0floc:@dense/bias*\\x0b\\n\\x05dtype\\x12\\x020\\x01\\ny\\n\\ndense/bias\\x12\\nVariableV2*\\x1d\\n\\x06_class\\x12\\x13\\n\\x11\\x12\\x0floc:@dense/bias*\\x0b\\n\\x05dtype\\x12\\x020\\x01*\\x0f\\n\\tcontainer\\x12\\x02\\x12\\x00*\\x0f\\n\\x05shape\\x12\\x06:\\x04\\x12\\x02\\x08\\x01*\\x11\\n\\x0bshared_name\\x12\\x02\\x12\\x00\\n\\x96\\x01\\n\\x11dense/bias/Assign\\x12\\x06Assign\\x1a\\ndense/bias\\x1a\\x1cdense/bias/Initializer/zeros*\\x07\\n\\x01T\\x12\\x020\\x01*\\x1d\\n\\x06_class\\x12\\x13\\n\\x11\\x12\\x0floc:@dense/bias*\\x14\\n\\x0evalidate_shape\\x12\\x02(\\x01*\\x11\\n\\x0buse_locking\\x12\\x02(\\x01\\nO\\n\\x0fdense/bias/read\\x12\\x08Identity\\x1a\\ndense/bias*\\x07\\n\\x01T\\x12\\x020\\x01*\\x1d\\n\\x06_class\\x12\\x13\\n\\x11\\x12\\x0floc:@dense/bias\\nB\\n\\x14dense/Tensordot/axes\\x12\\x05Const*\\x0b\\n\\x05dtype\\x12\\x020\\x03*\\x16\\n\\x05value\\x12\\rB\\x0b\\x08\\x03\\x12\\x04\\x12\\x02\\x08\\x01:\\x01\\x02\\nI\\n\\x14dense/Tensordot/free\\x12\\x05Const*\\x1d\\n\\x05value\\x12\\x14B\\x12\\x08\\x03\\x12\\x04\\x12\\x02\\x08\\x02\"\\x08\\x00\\x00\\x00\\x00\\x01\\x00\\x00\\x00*\\x0b\\n\\x05dtype\\x12\\x020\\x03\\n>\\n\\x15dense/Tensordot/Shape\\x12\\x05Shape\\x1a\\x05input*\\x07\\n\\x01T\\x12\\x020\\x01*\\x0e\\n\\x08out_type\\x12\\x020\\x03\\nG\\n\\x1ddense/Tensordot/GatherV2/axis\\x12\\x05Const*\\x12\\n\\x05value\\x12\\tB\\x07\\x08\\x03\\x12\\x00:\\x01\\x00*\\x0b\\n\\x05dtype\\x12\\x020\\x03\\n\\xae\\x01\\n\\x18dense/Tensordot/GatherV2\\x12\\x08GatherV2\\x1a\\x15dense/Tensordot/Shape\\x1a\\x14dense/Tensordot/free\\x1a\\x1ddense/Tensordot/GatherV2/axis*\\x0b\\n\\x05Taxis\\x12\\x020\\x03*\\x10\\n\\nbatch_dims\\x12\\x02\\x18\\x00*\\x0e\\n\\x08Tindices\\x12\\x020\\x03*\\r\\n\\x07Tparams\\x12\\x020\\x03\\nI\\n\\x1fdense/Tensordot/GatherV2_1/axis\\x12\\x05Const*\\x12\\n\\x05value\\x12\\tB\\x07\\x08\\x03\\x12\\x00:\\x01\\x00*\\x0b\\n\\x05dtype\\x12\\x020\\x03\\n\\xb2\\x01\\n\\x1adense/Tensordot/GatherV2_1\\x12\\x08GatherV2\\x1a\\x15dense/Tensordot/Shape\\x1a\\x14dense/Tensordot/axes\\x1a\\x1fdense/Tensordot/GatherV2_1/axis*\\x0b\\n\\x05Taxis\\x12\\x020\\x03*\\x10\\n\\nbatch_dims\\x12\\x02\\x18\\x00*\\x0e\\n\\x08Tindices\\x12\\x020\\x03*\\r\\n\\x07Tparams\\x12\\x020\\x03\\nC\\n\\x15dense/Tensordot/Const\\x12\\x05Const*\\x16\\n\\x05value\\x12\\rB\\x0b\\x08\\x03\\x12\\x04\\x12\\x02\\x08\\x01:\\x01\\x00*\\x0b\\n\\x05dtype\\x12\\x020\\x03\\ns\\n\\x14dense/Tensordot/Prod\\x12\\x04Prod\\x1a\\x18dense/Tensordot/GatherV2\\x1a\\x15dense/Tensordot/Const*\\n\\n\\x04Tidx\\x12\\x020\\x03*\\x0f\\n\\tkeep_dims\\x12\\x02(\\x00*\\x07\\n\\x01T\\x12\\x020\\x03\\nE\\n\\x17dense/Tensordot/Const_1\\x12\\x05Const*\\x16\\n\\x05value\\x12\\rB\\x0b\\x08\\x03\\x12\\x04\\x12\\x02\\x08\\x01:\\x01\\x00*\\x0b\\n\\x05dtype\\x12\\x020\\x03\\ny\\n\\x16dense/Tensordot/Prod_1\\x12\\x04Prod\\x1a\\x1adense/Tensordot/GatherV2_1\\x1a\\x17dense/Tensordot/Const_1*\\x07\\n\\x01T\\x12\\x020\\x03*\\n\\n\\x04Tidx\\x12\\x020\\x03*\\x0f\\n\\tkeep_dims\\x12\\x02(\\x00\\nE\\n\\x1bdense/Tensordot/concat/axis\\x12\\x05Const*\\x12\\n\\x05value\\x12\\tB\\x07\\x08\\x03\\x12\\x00:\\x01\\x00*\\x0b\\n\\x05dtype\\x12\\x020\\x03\\n\\x89\\x01\\n\\x16dense/Tensordot/concat\\x12\\x08ConcatV2\\x1a\\x14dense/Tensordot/free\\x1a\\x14dense/Tensordot/axes\\x1a\\x1bdense/Tensordot/concat/axis*\\x07\\n\\x01N\\x12\\x02\\x18\\x02*\\n\\n\\x04Tidx\\x12\\x020\\x03*\\x07\\n\\x01T\\x12\\x020\\x03\\ni\\n\\x15dense/Tensordot/stack\\x12\\x04Pack\\x1a\\x14dense/Tensordot/Prod\\x1a\\x16dense/Tensordot/Prod_1*\\x07\\n\\x01T\\x12\\x020\\x03*\\n\\n\\x04axis\\x12\\x02\\x18\\x00*\\x07\\n\\x01N\\x12\\x02\\x18\\x02\\n[\\n\\x19dense/Tensordot/transpose\\x12\\tTranspose\\x1a\\x05input\\x1a\\x16dense/Tensordot/concat*\\x0b\\n\\x05Tperm\\x12\\x020\\x03*\\x07\\n\\x01T\\x12\\x020\\x01\\nk\\n\\x17dense/Tensordot/Reshape\\x12\\x07Reshape\\x1a\\x19dense/Tensordot/transpose\\x1a\\x15dense/Tensordot/stack*\\x07\\n\\x01T\\x12\\x020\\x01*\\x0c\\n\\x06Tshape\\x12\\x020\\x03\\n{\\n\\x16dense/Tensordot/MatMul\\x12\\x06MatMul\\x1a\\x17dense/Tensordot/Reshape\\x1a\\x11dense/kernel/read*\\x07\\n\\x01T\\x12\\x020\\x01*\\x11\\n\\x0btranspose_a\\x12\\x02(\\x00*\\x11\\n\\x0btranspose_b\\x12\\x02(\\x00\\nE\\n\\x17dense/Tensordot/Const_2\\x12\\x05Const*\\x16\\n\\x05value\\x12\\rB\\x0b\\x08\\x03\\x12\\x04\\x12\\x02\\x08\\x01:\\x01\\x01*\\x0b\\n\\x05dtype\\x12\\x020\\x03\\nG\\n\\x1ddense/Tensordot/concat_1/axis\\x12\\x05Const*\\x12\\n\\x05value\\x12\\tB\\x07\\x08\\x03\\x12\\x00:\\x01\\x00*\\x0b\\n\\x05dtype\\x12\\x020\\x03\\n\\x94\\x01\\n\\x18dense/Tensordot/concat_1\\x12\\x08ConcatV2\\x1a\\x18dense/Tensordot/GatherV2\\x1a\\x17dense/Tensordot/Const_2\\x1a\\x1ddense/Tensordot/concat_1/axis*\\n\\n\\x04Tidx\\x12\\x020\\x03*\\x07\\n\\x01T\\x12\\x020\\x03*\\x07\\n\\x01N\\x12\\x02\\x18\\x02\\nc\\n\\x0fdense/Tensordot\\x12\\x07Reshape\\x1a\\x16dense/Tensordot/MatMul\\x1a\\x18dense/Tensordot/concat_1*\\x07\\n\\x01T\\x12\\x020\\x01*\\x0c\\n\\x06Tshape\\x12\\x020\\x03\\nZ\\n\\rdense/BiasAdd\\x12\\x07BiasAdd\\x1a\\x0fdense/Tensordot\\x1a\\x0fdense/bias/read*\\x07\\n\\x01T\\x12\\x020\\x01*\\x15\\n\\x0bdata_format\\x12\\x06\\x12\\x04NHWC\\n*\\n\\x06output\\x12\\x08Identity\\x1a\\rdense/BiasAdd*\\x07\\n\\x01T\\x12\\x020\\x01\\n%\\n\\x03sub\\x12\\x03Sub\\x1a\\x06output\\x1a\\x08target_1*\\x07\\n\\x01T\\x12\\x020\\x01\\n\\x1e\\n\\x06Square\\x12\\x06Square\\x1a\\x03sub*\\x07\\n\\x01T\\x12\\x020\\x01\\n>\\n\\x05Const\\x12\\x05Const*!\\n\\x05value\\x12\\x18B\\x16\\x08\\x03\\x12\\x04\\x12\\x02\\x08\\x03\"\\x0c\\x00\\x00\\x00\\x00\\x01\\x00\\x00\\x00\\x02\\x00\\x00\\x00*\\x0b\\n\\x05dtype\\x12\\x020\\x03\\nA\\n\\x04loss\\x12\\x04Mean\\x1a\\x06Square\\x1a\\x05Const*\\n\\n\\x04Tidx\\x12\\x020\\x03*\\x0f\\n\\tkeep_dims\\x12\\x02(\\x00*\\x07\\n\\x01T\\x12\\x020\\x01\\n8\\n\\x0fgradients/Shape\\x12\\x05Const*\\x11\\n\\x05value\\x12\\x08B\\x06\\x08\\x03\\x12\\x02\\x12\\x00*\\x0b\\n\\x05dtype\\x12\\x020\\x03\\nF\\n\\x19gradients/grad_ys_0/Const\\x12\\x05Const*\\x15\\n\\x05value\\x12\\x0cB\\n\\x08\\x01\\x12\\x00*\\x04\\x00\\x00\\x80?*\\x0b\\n\\x05dtype\\x12\\x020\\x01\\nb\\n\\x13gradients/grad_ys_0\\x12\\x04Fill\\x1a\\x0fgradients/Shape\\x1a\\x19gradients/grad_ys_0/Const*\\x07\\n\\x01T\\x12\\x020\\x01*\\x10\\n\\nindex_type\\x12\\x020\\x03\\nZ\\n!gradients/loss_grad/Reshape/shape\\x12\\x05Const*!\\n\\x05value\\x12\\x18B\\x16\\x08\\x03\\x12\\x04\\x12\\x02\\x08\\x03\"\\x0c\\x01\\x00\\x00\\x00\\x01\\x00\\x00\\x00\\x01\\x00\\x00\\x00*\\x0b\\n\\x05dtype\\x12\\x020\\x03\\nu\\n\\x1bgradients/loss_grad/Reshape\\x12\\x07Reshape\\x1a\\x13gradients/grad_ys_0\\x1a!gradients/loss_grad/Reshape/shape*\\x07\\n\\x01T\\x12\\x020\\x01*\\x0c\\n\\x06Tshape\\x12\\x020\\x03\\nC\\n\\x19gradients/loss_grad/Shape\\x12\\x05Shape\\x1a\\x06Square*\\x07\\n\\x01T\\x12\\x020\\x01*\\x0e\\n\\x08out_type\\x12\\x020\\x03\\ns\\n\\x18gradients/loss_grad/Tile\\x12\\x04Tile\\x1a\\x1bgradients/loss_grad/Reshape\\x1a\\x19gradients/loss_grad/Shape*\\x10\\n\\nTmultiples\\x12\\x020\\x03*\\x07\\n\\x01T\\x12\\x020\\x01\\nE\\n\\x1bgradients/loss_grad/Shape_1\\x12\\x05Shape\\x1a\\x06Square*\\x07\\n\\x01T\\x12\\x020\\x01*\\x0e\\n\\x08out_type\\x12\\x020\\x03\\nD\\n\\x1bgradients/loss_grad/Shape_2\\x12\\x05Const*\\x11\\n\\x05value\\x12\\x08B\\x06\\x08\\x03\\x12\\x02\\x12\\x00*\\x0b\\n\\x05dtype\\x12\\x020\\x03\\nG\\n\\x19gradients/loss_grad/Const\\x12\\x05Const*\\x16\\n\\x05value\\x12\\rB\\x0b\\x08\\x03\\x12\\x04\\x12\\x02\\x08\\x01:\\x01\\x00*\\x0b\\n\\x05dtype\\x12\\x020\\x03\\n~\\n\\x18gradients/loss_grad/Prod\\x12\\x04Prod\\x1a\\x1bgradients/loss_grad/Shape_1\\x1a\\x19gradients/loss_grad/Const*\\n\\n\\x04Tidx\\x12\\x020\\x03*\\x0f\\n\\tkeep_dims\\x12\\x02(\\x00*\\x07\\n\\x01T\\x12\\x020\\x03\\nI\\n\\x1bgradients/loss_grad/Const_1\\x12\\x05Const*\\x0b\\n\\x05dtype\\x12\\x020\\x03*\\x16\\n\\x05value\\x12\\rB\\x0b\\x08\\x03\\x12\\x04\\x12\\x02\\x08\\x01:\\x01\\x00\\n\\x82\\x01\\n\\x1agradients/loss_grad/Prod_1\\x12\\x04Prod\\x1a\\x1bgradients/loss_grad/Shape_2\\x1a\\x1bgradients/loss_grad/Const_1*\\x07\\n\\x01T\\x12\\x020\\x03*\\n\\n\\x04Tidx\\x12\\x020\\x03*\\x0f\\n\\tkeep_dims\\x12\\x02(\\x00\\nG\\n\\x1dgradients/loss_grad/Maximum/y\\x12\\x05Const*\\x12\\n\\x05value\\x12\\tB\\x07\\x08\\x03\\x12\\x00:\\x01\\x01*\\x0b\\n\\x05dtype\\x12\\x020\\x03\\nj\\n\\x1bgradients/loss_grad/Maximum\\x12\\x07Maximum\\x1a\\x1agradients/loss_grad/Prod_1\\x1a\\x1dgradients/loss_grad/Maximum/y*\\x07\\n\\x01T\\x12\\x020\\x03\\nh\\n\\x1cgradients/loss_grad/floordiv\\x12\\x08FloorDiv\\x1a\\x18gradients/loss_grad/Prod\\x1a\\x1bgradients/loss_grad/Maximum*\\x07\\n\\x01T\\x12\\x020\\x03\\nf\\n\\x18gradients/loss_grad/Cast\\x12\\x04Cast\\x1a\\x1cgradients/loss_grad/floordiv*\\x0e\\n\\x08Truncate\\x12\\x02(\\x00*\\n\\n\\x04DstT\\x12\\x020\\x01*\\n\\n\\x04SrcT\\x12\\x020\\x03\\nc\\n\\x1bgradients/loss_grad/truediv\\x12\\x07RealDiv\\x1a\\x18gradients/loss_grad/Tile\\x1a\\x18gradients/loss_grad/Cast*\\x07\\n\\x01T\\x12\\x020\\x01\\nf\\n\\x1bgradients/Square_grad/Const\\x12\\x05Const\\x1a\\x1c^gradients/loss_grad/truediv*\\x15\\n\\x05value\\x12\\x0cB\\n\\x08\\x01\\x12\\x00*\\x04\\x00\\x00\\x00@*\\x0b\\n\\x05dtype\\x12\\x020\\x01\\nK\\n\\x19gradients/Square_grad/Mul\\x12\\x03Mul\\x1a\\x03sub\\x1a\\x1bgradients/Square_grad/Const*\\x07\\n\\x01T\\x12\\x020\\x01\\nc\\n\\x1bgradients/Square_grad/Mul_1\\x12\\x03Mul\\x1a\\x1bgradients/loss_grad/truediv\\x1a\\x19gradients/Square_grad/Mul*\\x07\\n\\x01T\\x12\\x020\\x01\\nB\\n\\x18gradients/sub_grad/Shape\\x12\\x05Shape\\x1a\\x06output*\\x07\\n\\x01T\\x12\\x020\\x01*\\x0e\\n\\x08out_type\\x12\\x020\\x03\\nF\\n\\x1agradients/sub_grad/Shape_1\\x12\\x05Shape\\x1a\\x08target_1*\\x07\\n\\x01T\\x12\\x020\\x01*\\x0e\\n\\x08out_type\\x12\\x020\\x03\\n\\x80\\x01\\n(gradients/sub_grad/BroadcastGradientArgs\\x12\\x15BroadcastGradientArgs\\x1a\\x18gradients/sub_grad/Shape\\x1a\\x1agradients/sub_grad/Shape_1*\\x07\\n\\x01T\\x12\\x020\\x03\\n\\x8a\\x01\\n\\x16gradients/sub_grad/Sum\\x12\\x03Sum\\x1a\\x1bgradients/Square_grad/Mul_1\\x1a(gradients/sub_grad/BroadcastGradientArgs*\\n\\n\\x04Tidx\\x12\\x020\\x03*\\x0f\\n\\tkeep_dims\\x12\\x02(\\x00*\\x07\\n\\x01T\\x12\\x020\\x01\\nn\\n\\x1agradients/sub_grad/Reshape\\x12\\x07Reshape\\x1a\\x16gradients/sub_grad/Sum\\x1a\\x18gradients/sub_grad/Shape*\\x07\\n\\x01T\\x12\\x020\\x01*\\x0c\\n\\x06Tshape\\x12\\x020\\x03\\nC\\n\\x16gradients/sub_grad/Neg\\x12\\x03Neg\\x1a\\x1bgradients/Square_grad/Mul_1*\\x07\\n\\x01T\\x12\\x020\\x01\\n\\x89\\x01\\n\\x18gradients/sub_grad/Sum_1\\x12\\x03Sum\\x1a\\x16gradients/sub_grad/Neg\\x1a*gradients/sub_grad/BroadcastGradientArgs:1*\\x07\\n\\x01T\\x12\\x020\\x01*\\n\\n\\x04Tidx\\x12\\x020\\x03*\\x0f\\n\\tkeep_dims\\x12\\x02(\\x00\\nt\\n\\x1cgradients/sub_grad/Reshape_1\\x12\\x07Reshape\\x1a\\x18gradients/sub_grad/Sum_1\\x1a\\x1agradients/sub_grad/Shape_1*\\x07\\n\\x01T\\x12\\x020\\x01*\\x0c\\n\\x06Tshape\\x12\\x020\\x03\\ng\\n#gradients/sub_grad/tuple/group_deps\\x12\\x04NoOp\\x1a\\x1b^gradients/sub_grad/Reshape\\x1a\\x1d^gradients/sub_grad/Reshape_1\\n\\xb1\\x01\\n+gradients/sub_grad/tuple/control_dependency\\x12\\x08Identity\\x1a\\x1agradients/sub_grad/Reshape\\x1a$^gradients/sub_grad/tuple/group_deps*-\\n\\x06_class\\x12#\\n!\\x12\\x1floc:@gradients/sub_grad/Reshape*\\x07\\n\\x01T\\x12\\x020\\x01\\n\\xb7\\x01\\n-gradients/sub_grad/tuple/control_dependency_1\\x12\\x08Identity\\x1a\\x1cgradients/sub_grad/Reshape_1\\x1a$^gradients/sub_grad/tuple/group_deps*\\x07\\n\\x01T\\x12\\x020\\x01*/\\n\\x06_class\\x12%\\n#\\x12!loc:@gradients/sub_grad/Reshape_1\\n\\x84\\x01\\n(gradients/dense/BiasAdd_grad/BiasAddGrad\\x12\\x0bBiasAddGrad\\x1a+gradients/sub_grad/tuple/control_dependency*\\x07\\n\\x01T\\x12\\x020\\x01*\\x15\\n\\x0bdata_format\\x12\\x06\\x12\\x04NHWC\\n\\x8e\\x01\\n-gradients/dense/BiasAdd_grad/tuple/group_deps\\x12\\x04NoOp\\x1a)^gradients/dense/BiasAdd_grad/BiasAddGrad\\x1a,^gradients/sub_grad/tuple/control_dependency\\n\\xd6\\x01\\n5gradients/dense/BiasAdd_grad/tuple/control_dependency\\x12\\x08Identity\\x1a+gradients/sub_grad/tuple/control_dependency\\x1a.^gradients/dense/BiasAdd_grad/tuple/group_deps*\\x07\\n\\x01T\\x12\\x020\\x01*-\\n\\x06_class\\x12#\\n!\\x12\\x1floc:@gradients/sub_grad/Reshape\\n\\xe3\\x01\\n7gradients/dense/BiasAdd_grad/tuple/control_dependency_1\\x12\\x08Identity\\x1a(gradients/dense/BiasAdd_grad/BiasAddGrad\\x1a.^gradients/dense/BiasAdd_grad/tuple/group_deps*\\x07\\n\\x01T\\x12\\x020\\x01*;\\n\\x06_class\\x121\\n/\\x12-loc:@gradients/dense/BiasAdd_grad/BiasAddGrad\\n^\\n$gradients/dense/Tensordot_grad/Shape\\x12\\x05Shape\\x1a\\x16dense/Tensordot/MatMul*\\x07\\n\\x01T\\x12\\x020\\x01*\\x0e\\n\\x08out_type\\x12\\x020\\x03\\n\\xa5\\x01\\n&gradients/dense/Tensordot_grad/Reshape\\x12\\x07Reshape\\x1a5gradients/dense/BiasAdd_grad/tuple/control_dependency\\x1a$gradients/dense/Tensordot_grad/Shape*\\x07\\n\\x01T\\x12\\x020\\x01*\\x0c\\n\\x06Tshape\\x12\\x020\\x03\\n\\xa0\\x01\\n,gradients/dense/Tensordot/MatMul_grad/MatMul\\x12\\x06MatMul\\x1a&gradients/dense/Tensordot_grad/Reshape\\x1a\\x11dense/kernel/read*\\x07\\n\\x01T\\x12\\x020\\x01*\\x11\\n\\x0btranspose_a\\x12\\x02(\\x00*\\x11\\n\\x0btranspose_b\\x12\\x02(\\x01\\n\\xa8\\x01\\n.gradients/dense/Tensordot/MatMul_grad/MatMul_1\\x12\\x06MatMul\\x1a\\x17dense/Tensordot/Reshape\\x1a&gradients/dense/Tensordot_grad/Reshape*\\x11\\n\\x0btranspose_a\\x12\\x02(\\x01*\\x11\\n\\x0btranspose_b\\x12\\x02(\\x00*\\x07\\n\\x01T\\x12\\x020\\x01\\n\\x9e\\x01\\n6gradients/dense/Tensordot/MatMul_grad/tuple/group_deps\\x12\\x04NoOp\\x1a-^gradients/dense/Tensordot/MatMul_grad/MatMul\\x1a/^gradients/dense/Tensordot/MatMul_grad/MatMul_1\\n\\xfb\\x01\\n>gradients/dense/Tensordot/MatMul_grad/tuple/control_dependency\\x12\\x08Identity\\x1a,gradients/dense/Tensordot/MatMul_grad/MatMul\\x1a7^gradients/dense/Tensordot/MatMul_grad/tuple/group_deps*\\x07\\n\\x01T\\x12\\x020\\x01*?\\n\\x06_class\\x125\\n3\\x121loc:@gradients/dense/Tensordot/MatMul_grad/MatMul\\n\\x81\\x02\\n@gradients/dense/Tensordot/MatMul_grad/tuple/control_dependency_1\\x12\\x08Identity\\x1a.gradients/dense/Tensordot/MatMul_grad/MatMul_1\\x1a7^gradients/dense/Tensordot/MatMul_grad/tuple/group_deps*\\x07\\n\\x01T\\x12\\x020\\x01*A\\n\\x06_class\\x127\\n5\\x123loc:@gradients/dense/Tensordot/MatMul_grad/MatMul_1\\n@\\n\\x13train/learning_rate\\x12\\x05Const*\\x15\\n\\x05value\\x12\\x0cB\\n\\x08\\x01\\x12\\x00*\\x04\\n\\xd7#<*\\x0b\\n\\x05dtype\\x12\\x020\\x01\\n\\xe8\\x01\\n.train/update_dense/kernel/ApplyGradientDescent\\x12\\x14ApplyGradientDescent\\x1a\\x0cdense/kernel\\x1a\\x13train/learning_rate\\x1a@gradients/dense/Tensordot/MatMul_grad/tuple/control_dependency_1*\\x1f\\n\\x06_class\\x12\\x15\\n\\x13\\x12\\x11loc:@dense/kernel*\\x11\\n\\x0buse_locking\\x12\\x02(\\x00*\\x07\\n\\x01T\\x12\\x020\\x01\\n\\xd9\\x01\\n,train/update_dense/bias/ApplyGradientDescent\\x12\\x14ApplyGradientDescent\\x1a\\ndense/bias\\x1a\\x13train/learning_rate\\x1a7gradients/dense/BiasAdd_grad/tuple/control_dependency_1*\\x11\\n\\x0buse_locking\\x12\\x02(\\x00*\\x07\\n\\x01T\\x12\\x020\\x01*\\x1d\\n\\x06_class\\x12\\x13\\n\\x11\\x12\\x0floc:@dense/bias\\nm\\n\\x05train\\x12\\x04NoOp\\x1a-^train/update_dense/bias/ApplyGradientDescent\\x1a/^train/update_dense/kernel/ApplyGradientDescent\\n6\\n\\x04init\\x12\\x04NoOp\\x1a\\x12^dense/bias/Assign\\x1a\\x14^dense/kernel/Assign\\nA\\n\\x13save/filename/input\\x12\\x05Const*\\x16\\n\\x05value\\x12\\rB\\x0b\\x08\\x07\\x12\\x00B\\x05model*\\x0b\\n\\x05dtype\\x12\\x020\\x07\\nV\\n\\rsave/filename\\x12\\x16PlaceholderWithDefault\\x1a\\x13save/filename/input*\\x0b\\n\\x05dtype\\x12\\x020\\x07*\\x0b\\n\\x05shape\\x12\\x02:\\x00\\nM\\n\\nsave/Const\\x12\\x16PlaceholderWithDefault\\x1a\\rsave/filename*\\x0b\\n\\x05dtype\\x12\\x020\\x07*\\x0b\\n\\x05shape\\x12\\x02:\\x00\\n]\\n\\x18save/SaveV2/tensor_names\\x12\\x05Const*-\\n\\x05value\\x12$B\"\\x08\\x07\\x12\\x04\\x12\\x02\\x08\\x02B\\ndense/biasB\\x0cdense/kernel*\\x0b\\n\\x05dtype\\x12\\x020\\x07\\nK\\n\\x1csave/SaveV2/shape_and_slices\\x12\\x05Const*\\x17\\n\\x05value\\x12\\x0eB\\x0c\\x08\\x07\\x12\\x04\\x12\\x02\\x08\\x02B\\x00B\\x00*\\x0b\\n\\x05dtype\\x12\\x020\\x07\\n\\x85\\x01\\n\\x0bsave/SaveV2\\x12\\x06SaveV2\\x1a\\nsave/Const\\x1a\\x18save/SaveV2/tensor_names\\x1a\\x1csave/SaveV2/shape_and_slices\\x1a\\ndense/bias\\x1a\\x0cdense/kernel*\\x10\\n\\x06dtypes\\x12\\x06\\n\\x042\\x02\\x01\\x01\\ne\\n\\x17save/control_dependency\\x12\\x08Identity\\x1a\\nsave/Const\\x1a\\x0c^save/SaveV2*\\x1d\\n\\x06_class\\x12\\x13\\n\\x11\\x12\\x0floc:@save/Const*\\x07\\n\\x01T\\x12\\x020\\x07\\no\\n\\x1bsave/RestoreV2/tensor_names\\x12\\x05Const\"\\r/device:CPU:0*-\\n\\x05value\\x12$B\"\\x08\\x07\\x12\\x04\\x12\\x02\\x08\\x02B\\ndense/biasB\\x0cdense/kernel*\\x0b\\n\\x05dtype\\x12\\x020\\x07\\n]\\n\\x1fsave/RestoreV2/shape_and_slices\\x12\\x05Const\"\\r/device:CPU:0*\\x17\\n\\x05value\\x12\\x0eB\\x0c\\x08\\x07\\x12\\x04\\x12\\x02\\x08\\x02B\\x00B\\x00*\\x0b\\n\\x05dtype\\x12\\x020\\x07\\n\\x86\\x01\\n\\x0esave/RestoreV2\\x12\\tRestoreV2\\x1a\\nsave/Const\\x1a\\x1bsave/RestoreV2/tensor_names\\x1a\\x1fsave/RestoreV2/shape_and_slices\"\\r/device:CPU:0*\\x10\\n\\x06dtypes\\x12\\x06\\n\\x042\\x02\\x01\\x01\\n\\x82\\x01\\n\\x0bsave/Assign\\x12\\x06Assign\\x1a\\ndense/bias\\x1a\\x0esave/RestoreV2*\\x1d\\n\\x06_class\\x12\\x13\\n\\x11\\x12\\x0floc:@dense/bias*\\x14\\n\\x0evalidate_shape\\x12\\x02(\\x01*\\x11\\n\\x0buse_locking\\x12\\x02(\\x01*\\x07\\n\\x01T\\x12\\x020\\x01\\n\\x8a\\x01\\n\\rsave/Assign_1\\x12\\x06Assign\\x1a\\x0cdense/kernel\\x1a\\x10save/RestoreV2:1*\\x11\\n\\x0buse_locking\\x12\\x02(\\x01*\\x07\\n\\x01T\\x12\\x020\\x01*\\x1f\\n\\x06_class\\x12\\x15\\n\\x13\\x12\\x11loc:@dense/kernel*\\x14\\n\\x0evalidate_shape\\x12\\x02(\\x01\\n6\\n\\x10save/restore_all\\x12\\x04NoOp\\x1a\\x0c^save/Assign\\x1a\\x0e^save/Assign_1\"\\x03\\x08\\xa8\\x06'"
      ]
     },
     "execution_count": 28,
     "metadata": {},
     "output_type": "execute_result"
    }
   ],
   "source": [
    "tf.get_default_graph().as_graph_def().SerializeToString()"
   ]
  },
  {
   "cell_type": "code",
   "execution_count": null,
   "id": "30450c36",
   "metadata": {},
   "outputs": [],
   "source": []
  }
 ],
 "metadata": {
  "kernelspec": {
   "display_name": "Python 3 (ipykernel)",
   "language": "python",
   "name": "python3"
  },
  "language_info": {
   "codemirror_mode": {
    "name": "ipython",
    "version": 3
   },
   "file_extension": ".py",
   "mimetype": "text/x-python",
   "name": "python",
   "nbconvert_exporter": "python",
   "pygments_lexer": "ipython3",
   "version": "3.9.5"
  }
 },
 "nbformat": 4,
 "nbformat_minor": 5
}

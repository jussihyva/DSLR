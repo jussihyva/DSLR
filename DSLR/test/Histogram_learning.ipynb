{
 "cells": [
  {
   "cell_type": "code",
   "execution_count": 1,
   "id": "bdf59bdd",
   "metadata": {},
   "outputs": [],
   "source": [
    "import argparse\n",
    "\n",
    "class CmdArguments:\n",
    "\tdef __init__(self):\n",
    "\t\tpass\n",
    "\n",
    "\tdef _create_parser(self, description):\n",
    "\t\tparser = argparse.ArgumentParser(description = description)\n",
    "\t\treturn parser\n",
    "\n",
    "\tdef __add_common_arguments(self, parser):\n",
    "\t\tparser.add_argument(\"dataset_file\", help = \"Dataset file\", default = \"\")\n",
    "\t\treturn None\n",
    "\n",
    "\tdef _create_arguments(self, parser):\n",
    "\t\tself.__add_common_arguments(parser)\n",
    "\t\tself.arguments = parser.parse_args()\n",
    "\t\treturn None\n",
    "\n",
    "\tdef getArguments(self):\n",
    "\t\treturn (self.arguments)\n",
    "\n",
    "class CmdArguments_describe(CmdArguments):\n",
    "\tdef __init__(self):\n",
    "\t\tCmdArguments.__init__(self)\n",
    "\t\tparser = self._create_parser(\"describe prints basic informtion about a content of a dataset file.\")\n",
    "\t\tparser.add_argument(\"-T\", \"--Transpose\", help = \"Transposed printout\",\n",
    "\t\t\taction=argparse.BooleanOptionalAction, required = False, default = False)\n",
    "\t\tparser.add_argument(\"-V\", \"--Validate\", help = \"Validate calculations printout\",\n",
    "\t\t\taction=argparse.BooleanOptionalAction, required = False, default = False)\n",
    "\t\tparser.add_argument(\"-v\", \"--verbose\", help = \"Print details\",\n",
    "\t\t\ttype=int, required = False, default = 3)\n",
    "\t\tself._create_arguments(parser)\n",
    "\t\treturn None\n",
    "\n",
    "class CmdArguments_histogram(CmdArguments):\n",
    "\tdef __init__(self):\n",
    "\t\tCmdArguments.__init__(self)\n",
    "\t\tparser = self._create_parser(\"histogram visualize basic informtion about a content of a dataset file.\")\n",
    "\t\tself._create_arguments(parser)\n",
    "\t\treturn None\n",
    "\n",
    "class CmdArguments_pair(CmdArguments):\n",
    "\tdef __init__(self):\n",
    "\t\tCmdArguments.__init__(self)\n",
    "\t\tparser = self._create_parser(\"pair visualize basic informtion about a content of a dataset file.\")\n",
    "\t\tself._create_arguments(parser)\n",
    "\t\treturn None\n",
    "\n",
    "class CmdArguments_box(CmdArguments):\n",
    "\tdef __init__(self):\n",
    "\t\tCmdArguments.__init__(self)\n",
    "\t\tparser = self._create_parser(\"box visualize basic informtion about a content of a dataset file.\")\n",
    "\t\tself._create_arguments(parser)\n",
    "\t\treturn None\n",
    "\n",
    "class CmdArguments_correlation(CmdArguments):\n",
    "\tdef __init__(self):\n",
    "\t\tCmdArguments.__init__(self)\n",
    "\t\tparser = self._create_parser(\"correlation visualize basic informtion about a content of a dataset file.\")\n",
    "\t\tself._create_arguments(parser)\n",
    "\t\treturn None\n",
    "\n",
    "class CmdArguments_scatter(CmdArguments):\n",
    "\tdef __init__(self):\n",
    "\t\tCmdArguments.__init__(self)\n",
    "\t\tparser = self._create_parser(\"scatter visualize basic informtion about a content of a dataset file.\")\n",
    "\t\tself._create_arguments(parser)\n",
    "\t\treturn None\n"
   ]
  },
  {
   "cell_type": "code",
   "execution_count": 2,
   "id": "8dc81fb6",
   "metadata": {},
   "outputs": [],
   "source": [
    "import pandas as pd\n",
    "import numpy as np\n",
    "\n",
    "class HogwartsSubjects():\n",
    "\tdef __init__(self, dataset_file):\n",
    "\t\tdataset = pd.read_csv(dataset_file)\n",
    "#\t\tdataset = dataset.dropna()\n",
    "\t\tself.subjectList = [\"Arithmancy\", \"Astronomy\", \"Herbology\", \\\n",
    "\t\t\t\"Defense Against the Dark Arts\", \"Divination\", 'Muggle Studies', \\\n",
    "\t       'Ancient Runes', 'History of Magic', 'Transfiguration', 'Potions', \\\n",
    "    \t   'Care of Magical Creatures', 'Charms', 'Flying']\n",
    "\t\tself.hogwartsSubjects = dataset[self.subjectList]\n",
    "\t\tself.color_set = self.__create_color_list(dataset)\n",
    "\t\tself.subjectListLen = len(self.subjectList)\n",
    "\n",
    "\tdef __create_color_list(self, dataset):\n",
    "\t\tcolor_dict = {}\n",
    "\t\tcolor_dict['Ravenclaw'] = 'blue'\n",
    "\t\tcolor_dict['Slytherin'] = 'red'\n",
    "\t\tcolor_dict['Gryffindor'] = 'green'\n",
    "\t\tcolor_dict['Hufflepuff'] = 'black'\n",
    "\t\tcolor_list = []\n",
    "\t\tfor name in dataset['Hogwarts House']:\n",
    "\t\t\tcolor_list.append(color_dict[name])\n",
    "\t\tcolor_set = np.array(color_list)\n",
    "\t\treturn (color_set)\n",
    "\n",
    "\tdef getColorSet(self):\n",
    "\t\treturn (self.color_set)\n",
    "\n",
    "\tdef getDataFrame(self):\n",
    "\t\treturn (self.hogwartsSubjects)\n",
    "\n",
    "\tdef getSubjectList(self):\n",
    "\t\treturn (self.subjectList)\n",
    "\n",
    "\tdef getNumOfSubjects(self):\n",
    "\t\treturn (self.subjectListLen)\n",
    "\n"
   ]
  },
  {
   "cell_type": "code",
   "execution_count": 3,
   "id": "a913f474",
   "metadata": {},
   "outputs": [],
   "source": [
    "import os\n",
    "import sys\n",
    "import pandas as pd\n",
    "import matplotlib.pyplot as plt\n",
    "import math\n"
   ]
  },
  {
   "cell_type": "code",
   "execution_count": 10,
   "id": "8027be5f",
   "metadata": {},
   "outputs": [
    {
     "name": "stdout",
     "output_type": "stream",
     "text": [
      "0     58384.0\n",
      "33    54477.0\n",
      "55    68337.0\n",
      "Name: Arithmancy, dtype: float64\n"
     ]
    }
   ],
   "source": [
    "dataset_file = \"../data/dataset_train.csv\"\n",
    "hogwartsSubjects = HogwartsSubjects(dataset_file)\n",
    "hogwartsSubjects_df = hogwartsSubjects.getDataFrame()\n",
    "color_set = hogwartsSubjects.getColorSet()\n",
    "getSubjectList = hogwartsSubjects.getSubjectList()\n",
    "i = 0\n",
    "print(str(hogwartsSubjects_df[getSubjectList[i]][[0,33,55]]))\n"
   ]
  },
  {
   "cell_type": "code",
   "execution_count": 5,
   "id": "458d4e2b",
   "metadata": {},
   "outputs": [
    {
     "data": {
      "image/png": "[encoded data removed]",
      "text/plain": [
       "<Figure size 432x288 with 16 Axes>"
      ]
     },
     "metadata": {
      "needs_background": "light"
     },
     "output_type": "display_data"
    }
   ],
   "source": [
    "fig, axes = plt.subplots(4,4)\n",
    "axes = axes.flatten()\n",
    "for i in range(0, hogwartsSubjects.getNumOfSubjects()):\n",
    "\taxes[i].hist(hogwartsSubjects_df[getSubjectList[i]])\n",
    "\tif i > 0:\n",
    "\t\taxes[i].hist(hogwartsSubjects_df[getSubjectList[i - 1]])\n",
    "title = \"Overview of Hogwards courses (Histogram)\"\n",
    "columns = math.ceil(np.sqrt(hogwartsSubjects_df.shape[1]))\n",
    "rows = math.ceil(hogwartsSubjects_df.shape[1] / columns)\n",
    "#hogwartsSubjects_df.plot(kind='hist', subplots=False,\n",
    "#\tlayout=(rows, columns), sharex=False, sharey=False, title=title)\n",
    "#hogwartsSubjects_df.plot(kind='hist', subplots=True,\n",
    "#\tlayout=(rows, columns), sharex=False, sharey=False, title=title, color=\"read\")\n",
    "plt.suptitle(title)\n",
    "plt.show()\n"
   ]
  },
  {
   "cell_type": "code",
   "execution_count": null,
   "id": "ea883adf",
   "metadata": {},
   "outputs": [],
   "source": []
  }
 ],
 "metadata": {
  "kernelspec": {
   "display_name": "Python 3 (ipykernel)",
   "language": "python",
   "name": "python3"
  },
  "language_info": {
   "codemirror_mode": {
    "name": "ipython",
    "version": 3
   },
   "file_extension": ".py",
   "mimetype": "text/x-python",
   "name": "python",
   "nbconvert_exporter": "python",
   "pygments_lexer": "ipython3",
   "version": "3.9.7"
  }
 },
 "nbformat": 4,
 "nbformat_minor": 5
}
